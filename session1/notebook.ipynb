{
 "cells": [
  {
   "cell_type": "code",
   "execution_count": 1,
   "id": "d4caac89-190b-429e-8f5c-2489d41a3144",
   "metadata": {},
   "outputs": [],
   "source": [
    "%matplotlib notebook"
   ]
  },
  {
   "cell_type": "markdown",
   "id": "1e9b6bf3-dc36-4537-a4ba-e6aac2fcc99d",
   "metadata": {},
   "source": [
    "# Session 1: Forward mode differentiation\n",
    "\n",
    "This course introduces the concept of *differentiable programming*, a.k.a. *automatic differentiation (AD)*, or *algorithmic differentiation*. We will use the acronym AD henceforth.\n",
    "\n"
   ]
  },
  {
   "cell_type": "markdown",
   "id": "f3a52b6c-9f3d-4703-8272-ce6ab2f72cd5",
   "metadata": {},
   "source": [
    "## History\n",
    "\n",
    "* Origins of AD in 1950s.\n",
    "* However, it found a wider audience in the 1980s, when it became more relevant thanks to advances in both computer power and modern programming languages.\n",
    "* Forward mode (the subject of this session) was discovered by Wengert in 1964.\n",
    "* Further developed by Griewank in the late 1980s."
   ]
  },
  {
   "cell_type": "markdown",
   "id": "b47b5902-2c47-47e4-bdff-7aec78d9d6e2",
   "metadata": {},
   "source": [
    "## Idea\n",
    "\n",
    "The idea of AD is to **treat a model as a sequence of elementary instructions** (e.g., addition, multiplication, exponentiation). Here a *model* could be a function or subroutine, code block, or a whole program. Elementary operations are well-understood and their derivatives are known. As such, the derivative of the whole model may be computed by composing the derivatives of each operation using the *chain rule*.\n",
    "\n",
    "#### Recap on A-level maths: the Chain Rule\n",
    "\n",
    "Consider two composable, differentiable (mathematical) functions, $f$ and $g$, with composition $h=f\\circ g$. By definition, this means\n",
    "$$h(x)=(f\\circ g)(x)=g(f(x)).$$\n",
    "\n",
    "Then the *chain rule* states that the derivative of $h$ may be computed in terms of the derivatives of $f$ and $g$ using the formula\n",
    "$$h'(x)=(f\\circ g)'(x)=(f'\\circ g)(x)\\,g'(x)=g(f'(x))\\,g'(x).$$"
   ]
  },
  {
   "cell_type": "markdown",
   "id": "e88b498a-c177-4a06-a908-398f6de91296",
   "metadata": {},
   "source": [
    "## Example\n",
    "\n",
    "Consider two functions acting on real numbers, $f(x,y)=xy$ and $g(z)=(\\sin(z),\\cos(z))$. Here $f:\\mathbb{R}^2\\rightarrow\\mathbb{R}$ takes two inputs and returns a single output, while $g:\\mathbb{R}\\rightarrow\\mathbb{R}^2$ takes a single input and returns two outputs.\n",
    "\n",
    "*Exercise*: Convince yourself that these functions may be composed in either order.\n",
    "\n",
    "Consider the composition $h=f\\circ g:\\mathbb{R}^2\\rightarrow\\mathbb{R}^2$. Then we have\n",
    "$$h(x,y)=(f\\circ g)(x,y)=g(f(x,y))=(\\sin(xy),\\cos(xy)).$$\n",
    "\n",
    "For the derivative of each component,\n",
    "$$\n",
    "\\frac{\\partial f}{\\partial x}=y,\n",
    "\\quad\\frac{\\partial f}{\\partial y}=x,\n",
    "\\quad\\frac{\\partial g}{\\partial z}=(\\cos(z),-\\sin(z)).\n",
    "$$\n",
    "\n",
    "#### Exercise\n",
    "\n",
    "Use the chain rule to work out the derivatives of each of the outputs with respect to each of the inputs, i.e.,\n",
    "$$\n",
    "\\frac{\\partial h_1}{\\partial x},\n",
    "\\quad\\frac{\\partial h_1}{\\partial y},\n",
    "\\quad\\frac{\\partial h_2}{\\partial x},\n",
    "\\quad\\frac{\\partial h_2}{\\partial y},\n",
    "$$\n",
    "where $h(x,y)=(h_1(x,y),h_2(x,y))$.\n",
    "\n",
    "<details>\n",
    "$$\n",
    "\\frac{\\partial h_1}{\\partial x}=y\\cos(z)=y\\cos(xy),\n",
    "\\quad\\frac{\\partial h_1}{\\partial y}=x\\cos(z)=x\\cos(xy),\n",
    "\\quad\\frac{\\partial h_2}{\\partial x}=y\\sin(z)=y\\sin(xy),\n",
    "\\quad\\frac{\\partial h_2}{\\partial y}=x\\sin(z)=x\\sin(xy),\n",
    "$$  \n",
    "</details>"
   ]
  },
  {
   "cell_type": "markdown",
   "id": "410f369c-85df-457f-9715-33c72cb64596",
   "metadata": {},
   "source": [
    "[TODO: directional derivative, a.k.a. JVP]"
   ]
  },
  {
   "cell_type": "markdown",
   "id": "738460fa-4cca-4fcd-a671-3f3e22d8f1f9",
   "metadata": {},
   "source": [
    "[TODO: DAG interpretation]"
   ]
  },
  {
   "cell_type": "markdown",
   "id": "9f6a9e26-24a2-4505-82ec-52fe4cb2e251",
   "metadata": {},
   "source": [
    "[TODO: Write out subroutines for the two components]"
   ]
  },
  {
   "cell_type": "markdown",
   "id": "9236dfa4-2ca4-4c7d-b35d-7a33b9e15d39",
   "metadata": {},
   "source": [
    "## Source transformation\n",
    "\n",
    "[TODO: High-level idea]\n",
    "\n",
    "[TODO: Exercise on applying Tapenade to the subroutines from the avove example]"
   ]
  },
  {
   "cell_type": "markdown",
   "id": "31535ee5-5dfe-49bf-851b-b3f847a21e45",
   "metadata": {},
   "source": [
    "## References\n",
    "\n",
    "* R. E. Wengert. *A simple automatic derivative evaluation program*. Communications\n",
    "of the ACM, 7(8):463–464, 1964.\n",
    "* A. Griewank. *Achieving logarithmic growth of temporal and spatial complexity in\n",
    "reverse automatic differentiation.* Optimization Methods & Software, 1:35–54, 1992.\n",
    "* D. Cortild, et al. *A Brief Review of Automatic Differentiation.* (2023)."
   ]
  },
  {
   "cell_type": "code",
   "execution_count": null,
   "id": "a358de5b-4fe7-4af0-8a34-b59b05f8b5bb",
   "metadata": {},
   "outputs": [],
   "source": []
  }
 ],
 "metadata": {
  "kernelspec": {
   "display_name": "Python 3 (ipykernel)",
   "language": "python",
   "name": "python3"
  },
  "language_info": {
   "codemirror_mode": {
    "name": "ipython",
    "version": 3
   },
   "file_extension": ".py",
   "mimetype": "text/x-python",
   "name": "python",
   "nbconvert_exporter": "python",
   "pygments_lexer": "ipython3",
   "version": "3.12.3"
  }
 },
 "nbformat": 4,
 "nbformat_minor": 5
}
